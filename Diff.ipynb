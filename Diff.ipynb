{
 "cells": [
  {
   "cell_type": "code",
   "execution_count": 4,
   "metadata": {},
   "outputs": [],
   "source": [
    "# import the necessary packages\n",
    "from skimage.measure import compare_ssim\n",
    "import imutils\n",
    "import cv2\n",
    "import matplotlib.pyplot as plt"
   ]
  },
  {
   "cell_type": "markdown",
   "metadata": {},
   "source": [
    "### Detect difference via Webcam Stream"
   ]
  },
  {
   "cell_type": "code",
   "execution_count": 45,
   "metadata": {},
   "outputs": [],
   "source": [
    "cap = cv2.VideoCapture(0)\n",
    "\n",
    "# get current frame and previous frame\n",
    "ret, current_frame = cap.read()\n",
    "previous_frame = current_frame\n",
    "\n",
    "# save default frame as origin frame for comparing later\n",
    "originFrame = current_frame\n",
    "\n",
    "while(cap.isOpened()):\n",
    "    \n",
    "    # get gray frames\n",
    "    originFrame_gray = cv2.cvtColor(originFrame, cv2.COLOR_BGR2GRAY)\n",
    "    current_frame_gray = cv2.cvtColor(current_frame, cv2.COLOR_BGR2GRAY)\n",
    "    \n",
    "    # get difference between frames\n",
    "    (score, diff) = compare_ssim(originFrame_gray, current_frame_gray, gaussian_weights=True, full=True)\n",
    "    diff = (diff * 255).astype(\"uint8\")\n",
    "    # get diff score put text on screen (1 = same)\n",
    "    cv2.putText(current_frame, \"Score {0:.4f}\".format(score), (10, 20), cv2.FONT_HERSHEY_SIMPLEX, 0.5, (0,0,255), 2)\n",
    "\n",
    "   \n",
    "    if score< 0.97:\n",
    "         # find frame_diff countour\n",
    "        thresh = cv2.threshold(diff, 0, 255, cv2.THRESH_BINARY_INV | cv2.THRESH_OTSU)[1]\n",
    "        cnts = cv2.findContours(thresh.copy(), cv2.RETR_EXTERNAL, cv2.CHAIN_APPROX_SIMPLE)\n",
    "        cnts = imutils.grab_contours(cnts)\n",
    "        for c in cnts:\n",
    "            (x, y, w, h) = cv2.boundingRect(c)\n",
    "            cv2.rectangle(current_frame, (x, y), (x + w, y + h), (0, 0, 255), 2)\n",
    "            #cv2.rectangle(current_frame, (x, y), (x + w, y + h), (0, 0, 255), 2)\n",
    "           \n",
    "    \n",
    "    if cv2.waitKey(1) & 0xFF == ord('q'):\n",
    "        break\n",
    "        \n",
    "\n",
    "    cv2.imshow('diff',diff)\n",
    "    cv2.imshow('current_frame',previous_frame)\n",
    "    \n",
    "    previous_frame = current_frame.copy()\n",
    "    ret, current_frame = cap.read()\n",
    "    \n",
    "    \n",
    "    \n",
    "cap.release()\n",
    "cv2.destroyAllWindows()"
   ]
  }
 ],
 "metadata": {
  "kernelspec": {
   "display_name": "Python 3",
   "language": "python",
   "name": "python3"
  }
 },
 "nbformat": 4,
 "nbformat_minor": 2
}
